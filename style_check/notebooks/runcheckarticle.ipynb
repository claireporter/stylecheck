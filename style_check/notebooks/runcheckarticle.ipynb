import sys
sys.path.append('/content/stylecheck/scripts')

from checkarticle import test_article

print (test_article)